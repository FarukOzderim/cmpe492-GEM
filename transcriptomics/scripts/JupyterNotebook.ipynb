{
 "cells": [
  {
   "cell_type": "markdown",
   "metadata": {},
   "source": [
    "## Transcriptomics Script\n",
    "### First part\n",
    "First we load the module"
   ]
  },
  {
   "cell_type": "code",
   "execution_count": 1,
   "metadata": {},
   "outputs": [],
   "source": [
    "import pandas as pd\n",
    "from matplotlib import pyplot as plt"
   ]
  },
  {
   "cell_type": "markdown",
   "metadata": {},
   "source": [
    "### Second part\n",
    "load the data"
   ]
  },
  {
   "cell_type": "code",
   "execution_count": 2,
   "metadata": {},
   "outputs": [],
   "source": [
    "data = pd.read_csv('../data/deseq.txt', sep='\\t', index_col=0)"
   ]
  },
  {
   "cell_type": "markdown",
   "metadata": {},
   "source": [
    "Now show the head"
   ]
  },
  {
   "cell_type": "code",
   "execution_count": 3,
   "metadata": {},
   "outputs": [
    {
     "data": {
      "text/html": [
       "<div>\n",
       "<style scoped>\n",
       "    .dataframe tbody tr th:only-of-type {\n",
       "        vertical-align: middle;\n",
       "    }\n",
       "\n",
       "    .dataframe tbody tr th {\n",
       "        vertical-align: top;\n",
       "    }\n",
       "\n",
       "    .dataframe thead th {\n",
       "        text-align: right;\n",
       "    }\n",
       "</style>\n",
       "<table border=\"1\" class=\"dataframe\">\n",
       "  <thead>\n",
       "    <tr style=\"text-align: right;\">\n",
       "      <th></th>\n",
       "      <th>baseMean</th>\n",
       "      <th>log2FoldChange</th>\n",
       "      <th>lfcSE</th>\n",
       "      <th>stat</th>\n",
       "      <th>pvalue</th>\n",
       "      <th>padj</th>\n",
       "    </tr>\n",
       "  </thead>\n",
       "  <tbody>\n",
       "    <tr>\n",
       "      <th>MYO5C</th>\n",
       "      <td>2.676870</td>\n",
       "      <td>-22.123213</td>\n",
       "      <td>2.423337</td>\n",
       "      <td>-9.129234</td>\n",
       "      <td>6.900000e-20</td>\n",
       "      <td>1.190000e-15</td>\n",
       "    </tr>\n",
       "    <tr>\n",
       "      <th>BCL2L15</th>\n",
       "      <td>0.166025</td>\n",
       "      <td>-29.897606</td>\n",
       "      <td>3.786651</td>\n",
       "      <td>-7.895527</td>\n",
       "      <td>2.890000e-15</td>\n",
       "      <td>1.090000e-11</td>\n",
       "    </tr>\n",
       "    <tr>\n",
       "      <th>CTAG2</th>\n",
       "      <td>1.440800</td>\n",
       "      <td>-29.934618</td>\n",
       "      <td>3.790412</td>\n",
       "      <td>-7.897457</td>\n",
       "      <td>2.850000e-15</td>\n",
       "      <td>1.090000e-11</td>\n",
       "    </tr>\n",
       "    <tr>\n",
       "      <th>DUSP27</th>\n",
       "      <td>0.528325</td>\n",
       "      <td>-29.936772</td>\n",
       "      <td>3.787233</td>\n",
       "      <td>-7.904655</td>\n",
       "      <td>2.690000e-15</td>\n",
       "      <td>1.090000e-11</td>\n",
       "    </tr>\n",
       "    <tr>\n",
       "      <th>LYNX1-SLURP2</th>\n",
       "      <td>0.220659</td>\n",
       "      <td>30.000000</td>\n",
       "      <td>3.804834</td>\n",
       "      <td>7.884707</td>\n",
       "      <td>3.150000e-15</td>\n",
       "      <td>1.090000e-11</td>\n",
       "    </tr>\n",
       "  </tbody>\n",
       "</table>\n",
       "</div>"
      ],
      "text/plain": [
       "              baseMean  log2FoldChange     lfcSE      stat        pvalue  \\\n",
       "MYO5C         2.676870      -22.123213  2.423337 -9.129234  6.900000e-20   \n",
       "BCL2L15       0.166025      -29.897606  3.786651 -7.895527  2.890000e-15   \n",
       "CTAG2         1.440800      -29.934618  3.790412 -7.897457  2.850000e-15   \n",
       "DUSP27        0.528325      -29.936772  3.787233 -7.904655  2.690000e-15   \n",
       "LYNX1-SLURP2  0.220659       30.000000  3.804834  7.884707  3.150000e-15   \n",
       "\n",
       "                      padj  \n",
       "MYO5C         1.190000e-15  \n",
       "BCL2L15       1.090000e-11  \n",
       "CTAG2         1.090000e-11  \n",
       "DUSP27        1.090000e-11  \n",
       "LYNX1-SLURP2  1.090000e-11  "
      ]
     },
     "execution_count": 3,
     "metadata": {},
     "output_type": "execute_result"
    }
   ],
   "source": [
    "data.head()"
   ]
  },
  {
   "cell_type": "markdown",
   "metadata": {},
   "source": [
    "Now plot histogram of the pvalue"
   ]
  },
  {
   "cell_type": "code",
   "execution_count": 4,
   "metadata": {},
   "outputs": [
    {
     "data": {
      "text/plain": [
       "<matplotlib.axes._subplots.AxesSubplot at 0x7f94a06f3cc0>"
      ]
     },
     "execution_count": 4,
     "metadata": {},
     "output_type": "execute_result"
    },
    {
     "data": {
      "image/png": "[encoded data removed]",
      "text/plain": [
       "<Figure size 432x288 with 1 Axes>"
      ]
     },
     "metadata": {
      "needs_background": "light"
     },
     "output_type": "display_data"
    }
   ],
   "source": [
    "data['pvalue'].hist()"
   ]
  }
 ],
 "metadata": {
  "kernelspec": {
   "display_name": "Python 3",
   "language": "python",
   "name": "python3"
  },
  "language_info": {
   "codemirror_mode": {
    "name": "ipython",
    "version": 3
   },
   "file_extension": ".py",
   "mimetype": "text/x-python",
   "name": "python",
   "nbconvert_exporter": "python",
   "pygments_lexer": "ipython3",
   "version": "3.7.0"
  }
 },
 "nbformat": 4,
 "nbformat_minor": 4
}
